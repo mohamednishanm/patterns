{
 "cells": [
  {
   "cell_type": "code",
   "execution_count": 4,
   "id": "0793f224-8762-422c-bcc5-666fc9cbec56",
   "metadata": {},
   "outputs": [
    {
     "name": "stdout",
     "output_type": "stream",
     "text": [
      "*****\n",
      " ****\n",
      "  ***\n",
      "   **\n",
      "    *\n"
     ]
    }
   ],
   "source": [
    "for i in range(1,6):\n",
    "    for j in range(1,6):\n",
    "        if j >= i:\n",
    "            print(\"*\",end=\"\")\n",
    "        else:\n",
    "            print(\" \",end=\"\")\n",
    "    print()"
   ]
  },
  {
   "cell_type": "code",
   "execution_count": 5,
   "id": "3949138c-66fa-4089-9c1e-ab782d21e687",
   "metadata": {},
   "outputs": [
    {
     "name": "stdout",
     "output_type": "stream",
     "text": [
      "*****\n",
      "**** \n",
      "***  \n",
      "**   \n",
      "*    \n"
     ]
    }
   ],
   "source": [
    "for i in range(1,6):\n",
    "    for j in range(1,6):\n",
    "        if j <= 6-i:\n",
    "            print(\"*\",end=\"\")\n",
    "        else:\n",
    "            print(\" \",end=\"\")\n",
    "    print()"
   ]
  },
  {
   "cell_type": "code",
   "execution_count": 7,
   "id": "37acf7c8-8557-417b-9e1b-0655f095426c",
   "metadata": {},
   "outputs": [
    {
     "name": "stdout",
     "output_type": "stream",
     "text": [
      "    *    \n",
      "   ***   \n",
      "  *****  \n",
      " ******* \n",
      "*********\n"
     ]
    }
   ],
   "source": [
    "for i in range(1,6):\n",
    "    for j in range(1,10):\n",
    "        if j>=6-i and j<=4+i:\n",
    "            print(\"*\",end=\"\")\n",
    "        else:\n",
    "            print(\" \",end=\"\")\n",
    "    print()"
   ]
  },
  {
   "cell_type": "code",
   "execution_count": 8,
   "id": "507a4f63-6bc4-418a-8a6f-2ebe01b53a58",
   "metadata": {},
   "outputs": [
    {
     "name": "stdout",
     "output_type": "stream",
     "text": [
      "    *    \n",
      "   * *   \n",
      "  * * *  \n",
      " * * * * \n",
      "* * * * *\n"
     ]
    }
   ],
   "source": [
    "for i in range(1,6):\n",
    "    k=1\n",
    "    for j in range(1,10):\n",
    "        if j>=6-i and j<=4+i and k:\n",
    "            print(\"*\",end=\"\")\n",
    "            k=0\n",
    "        else:\n",
    "            print(\" \",end=\"\")\n",
    "            k=1\n",
    "    print()"
   ]
  },
  {
   "cell_type": "code",
   "execution_count": 1,
   "id": "9b1342a8-c062-4da6-b7a1-2e108298a8ee",
   "metadata": {},
   "outputs": [
    {
     "name": "stdout",
     "output_type": "stream",
     "text": [
      "*********\n",
      "**** ****\n",
      "***   ***\n",
      "**     **\n",
      "*       *\n"
     ]
    }
   ],
   "source": [
    "for i in range(1,6):\n",
    "    k=1\n",
    "    for j in range(1,10):\n",
    "        if j<=6-i or j>=4+i:\n",
    "            print(\"*\",end=\"\")\n",
    "            k=0\n",
    "        else:\n",
    "            print(\" \",end=\"\")\n",
    "            k=1\n",
    "    print()"
   ]
  },
  {
   "cell_type": "code",
   "execution_count": 4,
   "id": "0d56bc27-0f38-4fdd-a541-6fe871d49c7f",
   "metadata": {},
   "outputs": [
    {
     "name": "stdout",
     "output_type": "stream",
     "text": [
      "   1   \n",
      "  121  \n",
      " 12321 \n",
      "1234321\n"
     ]
    }
   ],
   "source": [
    "for i in range(1,5):\n",
    "    k=1\n",
    "    for j in range(1,8):\n",
    "        if j>=5-i and j<=3+i:\n",
    "            print(k,end=\"\")\n",
    "            if j<4:\n",
    "                k+=1\n",
    "            else:\n",
    "                k-=1\n",
    "        else:\n",
    "            print(\" \",end=\"\")\n",
    "    print()"
   ]
  },
  {
   "cell_type": "code",
   "execution_count": 17,
   "id": "7e2761fd-c81e-4623-900b-f204be975af2",
   "metadata": {},
   "outputs": [
    {
     "name": "stdout",
     "output_type": "stream",
     "text": [
      "ABCDCBA\n",
      "ABC CBA\n",
      "AB   BA\n",
      "A     A\n"
     ]
    }
   ],
   "source": [
    "for i in range(1,5):\n",
    "    c = 65\n",
    "    for j in range(1,8):\n",
    "        if j<=5-i or j>=3+i:\n",
    "            print(chr(c),end=\"\")\n",
    "            if j< 4:\n",
    "                c+=1    \n",
    "            else:\n",
    "                c-=1\n",
    "        else:\n",
    "            print(\" \",end=\"\")\n",
    "            if j == 4:\n",
    "                c-=1\n",
    "    print()"
   ]
  },
  {
   "cell_type": "code",
   "execution_count": 28,
   "id": "c6e0f7c8-781c-471a-9478-0722d3fafae2",
   "metadata": {},
   "outputs": [
    {
     "name": "stdout",
     "output_type": "stream",
     "text": [
      "      *       \n",
      "    * * *     \n",
      "  * * * * *   \n",
      "* * * * * * * \n",
      "  * * * * *   \n",
      "    * * *     \n",
      "      *       \n"
     ]
    }
   ],
   "source": [
    "k = 0\n",
    "for i in range(1, 8):\n",
    "    if i <= 4: \n",
    "        k += 1\n",
    "    else:      \n",
    "        k -= 1\n",
    "    for j in range(1, 8):\n",
    "        if 5 - k <= j <= 3 + k:\n",
    "            print(\"*\", end=\" \")\n",
    "        else:\n",
    "            print(\" \", end=\" \")\n",
    "    print()\n"
   ]
  },
  {
   "cell_type": "code",
   "execution_count": 29,
   "id": "a1d4c4a6-f9ed-481c-bd5b-42dd88a04247",
   "metadata": {},
   "outputs": [
    {
     "name": "stdout",
     "output_type": "stream",
     "text": [
      "*       \n",
      "* *     \n",
      "* * *   \n",
      "* * * * \n",
      "* * *   \n",
      "* *     \n",
      "*       \n"
     ]
    }
   ],
   "source": [
    "k=0\n",
    "for i in range(1, 8):\n",
    "    if i <= 4: \n",
    "        k += 1\n",
    "    else:      \n",
    "        k -= 1\n",
    "    for j in range(1, 5):\n",
    "        if j<=k:\n",
    "            print(\"*\", end=\" \")\n",
    "        else:\n",
    "            print(\" \", end=\" \")\n",
    "    print()"
   ]
  },
  {
   "cell_type": "code",
   "execution_count": 31,
   "id": "e7c72e87-2609-4814-b72e-02708c892bbd",
   "metadata": {},
   "outputs": [
    {
     "name": "stdout",
     "output_type": "stream",
     "text": [
      "* * * * * * * \n",
      "  * * * * *   \n",
      "    * * *     \n",
      "      *       \n"
     ]
    }
   ],
   "source": [
    "for i in range(1, 5):\n",
    "    for j in range(1, 8):\n",
    "        if j>=i and j<=8-i:\n",
    "            print(\"*\", end=\" \")\n",
    "        else:\n",
    "            print(\" \", end=\" \")\n",
    "    print()"
   ]
  },
  {
   "cell_type": "code",
   "execution_count": 42,
   "id": "e916bc8e-4c3b-41da-b203-b77bdb269fec",
   "metadata": {},
   "outputs": [
    {
     "name": "stdout",
     "output_type": "stream",
     "text": [
      "   1   \n",
      "  232  \n",
      " 34543 \n",
      "4567654\n"
     ]
    }
   ],
   "source": [
    "for i in range(1,5):\n",
    "    k=i\n",
    "    for j in range(1,8):\n",
    "        if j>=5-i and j<=3+i:\n",
    "            print(k,end=\"\")\n",
    "            if j<4:\n",
    "                k+=1\n",
    "            else:\n",
    "                k-=1\n",
    "        else:\n",
    "            print(\" \",end=\"\")\n",
    "    print()"
   ]
  },
  {
   "cell_type": "code",
   "execution_count": 47,
   "id": "807d392b-255f-437d-adb3-0077d8513378",
   "metadata": {},
   "outputs": [
    {
     "name": "stdout",
     "output_type": "stream",
     "text": [
      "6 5 4 3 2 1 0 \n",
      "5 4 3 2 1 0   \n",
      "4 3 2 1 0     \n",
      "3 2 1 0       \n",
      "2 1 0         \n",
      "1 0           \n",
      "0             \n"
     ]
    }
   ],
   "source": [
    "for i in range(1,8):\n",
    "    k=7-i\n",
    "    for j in range(1,8):\n",
    "        if j <= 8-i:\n",
    "            print(k,end=\" \")\n",
    "            k-=1\n",
    "        else:\n",
    "            print(\" \",end=\" \")\n",
    "    print()"
   ]
  },
  {
   "cell_type": "code",
   "execution_count": 56,
   "id": "45950b6a-782b-4e22-a1a7-e15a66031c6c",
   "metadata": {},
   "outputs": [
    {
     "name": "stdout",
     "output_type": "stream",
     "text": [
      "        1 \n",
      "      1 2 \n",
      "    1 2 3 \n",
      "  1 2 3 4 \n",
      "1 2 3 4 5 \n",
      "  1 2 3 4 \n",
      "    1 2 3 \n",
      "      1 2 \n",
      "        1 \n"
     ]
    }
   ],
   "source": [
    "k=0\n",
    "for i in range(1,10):\n",
    "    if i<=5:\n",
    "        k+=1\n",
    "    else:\n",
    "        k-=1\n",
    "    n=1\n",
    "    for j in range(1,6):\n",
    "        if j>=6-k:\n",
    "            print(n,end=\" \")\n",
    "            n+=1\n",
    "        else:\n",
    "            print(\" \",end=\" \")\n",
    "    print()"
   ]
  },
  {
   "cell_type": "code",
   "execution_count": 65,
   "id": "6c87e710-79c2-4a12-a185-1f24312e2796",
   "metadata": {},
   "outputs": [
    {
     "name": "stdout",
     "output_type": "stream",
     "text": [
      "\\ * * * * * / \n",
      "* \\ * * * / * \n",
      "* * \\ * / * * \n",
      "* * * / * * * \n",
      "* * / * \\ * * \n",
      "* / * * * \\ * \n",
      "/ * * * * * \\ \n"
     ]
    }
   ],
   "source": [
    "\n",
    "for i in range(1,8):\n",
    "    for j in range(1,8):\n",
    "        if i!=j and 8-i != j:\n",
    "            print(\"*\",end=\" \")\n",
    "        else:\n",
    "            if 8-j==i:\n",
    "                print(\"/\",end=\" \")\n",
    "            else:\n",
    "                print(\"\\\\\",end=\" \")\n",
    "    print()"
   ]
  },
  {
   "cell_type": "code",
   "execution_count": 67,
   "id": "f1037228-936b-48d0-a11e-8700d8b34bd9",
   "metadata": {},
   "outputs": [
    {
     "name": "stdout",
     "output_type": "stream",
     "text": [
      "* * * * * * * * * \n",
      "* * * *   * * * * \n",
      "* * *       * * * \n",
      "* *           * * \n",
      "*               * \n",
      "* *           * * \n",
      "* * *       * * * \n",
      "* * * *   * * * * \n",
      "* * * * * * * * * \n"
     ]
    }
   ],
   "source": [
    "k=0\n",
    "for i in range(1, 10):\n",
    "    if i<=5:\n",
    "        k+=1\n",
    "    else:\n",
    "        k-=1\n",
    "    for j in range(1, 10):\n",
    "        if j<=6-k or j>=4+k:\n",
    "            print(\"*\", end=\" \")\n",
    "        else:\n",
    "            print(\" \", end=\" \")\n",
    "    print()"
   ]
  },
  {
   "cell_type": "code",
   "execution_count": 71,
   "id": "e76fa8aa-0120-4e5c-8c85-4b80050e2dd2",
   "metadata": {},
   "outputs": [
    {
     "name": "stdout",
     "output_type": "stream",
     "text": [
      "* * * * * * * * * \n",
      "  * * * * * * *   \n",
      "    * * * * *     \n",
      "      * * *       \n",
      "        *         \n"
     ]
    }
   ],
   "source": [
    "for i in range(1, 6):\n",
    "    for j in range(1, 10):\n",
    "        if i<=j<=10-i:\n",
    "            print(\"*\", end=\" \")\n",
    "        else:\n",
    "            print(\" \", end=\" \")\n",
    "    print()"
   ]
  },
  {
   "cell_type": "code",
   "execution_count": 72,
   "id": "4735f72f-69b0-4e18-aabe-ae6a698d9488",
   "metadata": {},
   "outputs": [
    {
     "name": "stdout",
     "output_type": "stream",
     "text": [
      "   A   \n",
      "  ABA  \n",
      " ABCBA \n",
      "ABCDCBA\n"
     ]
    }
   ],
   "source": [
    "for i in range(1,5):\n",
    "    k=65\n",
    "    for j in range(1,8):\n",
    "        if j>=5-i and j<=3+i:\n",
    "            print(chr(k),end=\"\")\n",
    "            if j<4:\n",
    "                k+=1\n",
    "            else:\n",
    "                k-=1\n",
    "        else:\n",
    "            print(\" \",end=\"\")\n",
    "    print()"
   ]
  },
  {
   "cell_type": "code",
   "execution_count": 8,
   "id": "20c58591-71e8-41c5-99be-3abfcb24a55e",
   "metadata": {},
   "outputs": [
    {
     "name": "stdout",
     "output_type": "stream",
     "text": [
      "      A 1       \n",
      "    A B 1 2     \n",
      "  A B C 1 2 3   \n",
      "A B C D 1 2 3 4 \n"
     ]
    }
   ],
   "source": [
    "for i in range(1,5):\n",
    "    k=65\n",
    "    a=1\n",
    "    for j in range(1,9):\n",
    "        if j>=5-i and j<=4+i:\n",
    "            if j<= 4:\n",
    "                print(chr(k),end=\" \")\n",
    "                k+=1\n",
    "            else:\n",
    "                print(a,end=\" \")\n",
    "                a+=1\n",
    "        else:\n",
    "            print(\" \",end=\" \")\n",
    "    print()"
   ]
  },
  {
   "cell_type": "code",
   "execution_count": 13,
   "id": "5c501b3a-c9da-4767-b6dd-a23993d973d1",
   "metadata": {},
   "outputs": [
    {
     "name": "stdout",
     "output_type": "stream",
     "text": [
      "      * * * * * \n",
      "    * * * * *   \n",
      "  * * * * *     \n",
      "* * * * *       \n"
     ]
    }
   ],
   "source": [
    "for i in range(1,5):\n",
    "    for j in range(1,9):\n",
    "        if j>=5-i and j<=9-i:\n",
    "            print(\"*\",end=\" \")\n",
    "        else:\n",
    "            print(\" \",end=\" \")\n",
    "    print()"
   ]
  },
  {
   "cell_type": "code",
   "execution_count": 27,
   "id": "10e5fff7-bd7c-4995-a8e8-8f7a99be64cc",
   "metadata": {},
   "outputs": [
    {
     "name": "stdout",
     "output_type": "stream",
     "text": [
      "      1         \n",
      "    1 2 A       \n",
      "  1 2 3 A B     \n",
      "1 2 3 4 A B C   \n"
     ]
    }
   ],
   "source": [
    "for i in range(1,5):\n",
    "    a=49\n",
    "    for j in range(1,9):\n",
    "        if j>=5-i and j<=3+i:\n",
    "            if j<5:\n",
    "                print(chr(a),end=\" \")\n",
    "                a+=1\n",
    "                if j ==4:\n",
    "                    a = 65 \n",
    "            else:\n",
    "                print(chr(a),end=\" \")\n",
    "                a+=1\n",
    "        else:\n",
    "            print(\" \",end=\" \")\n",
    "    print()"
   ]
  },
  {
   "cell_type": "code",
   "execution_count": 34,
   "id": "6a6d4164-ded5-4232-8e1a-9e05fff683d9",
   "metadata": {},
   "outputs": [
    {
     "name": "stdout",
     "output_type": "stream",
     "text": [
      "1      \n",
      "1 0     \n",
      "1 0 1    \n",
      "1 0 1 0   \n",
      "1 0 1 0 1  \n",
      "1 0 1 0 1 0 \n"
     ]
    }
   ],
   "source": [
    "for i in range(1,7):\n",
    "    c=1\n",
    "    for j in range(1,7):\n",
    "        if j <= i:\n",
    "            print(c,end=\" \")\n",
    "            c=1-c\n",
    "        else:\n",
    "            print(\" \",end=\"\")\n",
    "    print()"
   ]
  },
  {
   "cell_type": "code",
   "execution_count": 43,
   "id": "3ab5c1fc-90ad-4e4c-84db-6d4c16aa9d03",
   "metadata": {},
   "outputs": [
    {
     "name": "stdout",
     "output_type": "stream",
     "text": [
      "* * * * * * * \n",
      "*           * \n",
      "*   * * *   * \n",
      "*   *   *   * \n",
      "*   * * *   * \n",
      "*           * \n",
      "* * * * * * * \n"
     ]
    }
   ],
   "source": [
    "for i in range(1,8):\n",
    "    for j in range(1,8):\n",
    "        if (i==1 or j==1 or i==7 or j==7) or (i>=3 and i<=5 and j>=3 and j<=5) and (i==3 or i==5 or j==3 or j==5):\n",
    "            print(\"*\",end=\" \")\n",
    "        else:\n",
    "            print(\" \",end=\" \")\n",
    "    print()"
   ]
  },
  {
   "cell_type": "code",
   "execution_count": 55,
   "id": "a2560c06-6c20-4490-a0de-e3a6c94fd333",
   "metadata": {},
   "outputs": [
    {
     "name": "stdout",
     "output_type": "stream",
     "text": [
      "                    0                     \n",
      "                  1 2 1                   \n",
      "                2 3 4 3 2                 \n",
      "              3 4 5 6 5 4 3               \n",
      "            4 5 6 7 8 7 6 5 4             \n",
      "          5 6 7 8 9 0 9 8 7 6 5           \n",
      "        6 7 8 9 0 1 2 1 0 9 8 7 6         \n",
      "      7 8 9 0 1 2 3 4 3 2 1 0 9 8 7       \n",
      "    8 9 0 1 2 3 4 5 6 5 4 3 2 1 0 9 8     \n",
      "  9 0 1 2 3 4 5 6 7 8 7 6 5 4 3 2 1 0 9   \n",
      "0 1 2 3 4 5 6 7 8 9 0 9 8 7 6 5 4 3 2 1 0 \n",
      "  9 0 1 2 3 4 5 6 7 8 7 6 5 4 3 2 1 0 9   \n",
      "    8 9 0 1 2 3 4 5 6 5 4 3 2 1 0 9 8     \n",
      "      7 8 9 0 1 2 3 4 3 2 1 0 9 8 7       \n",
      "        6 7 8 9 0 1 2 1 0 9 8 7 6         \n",
      "          5 6 7 8 9 0 9 8 7 6 5           \n",
      "            4 5 6 7 8 7 6 5 4             \n",
      "              3 4 5 6 5 4 3               \n",
      "                2 3 4 3 2                 \n",
      "                  1 2 1                   \n",
      "                    0                     \n"
     ]
    }
   ],
   "source": [
    "m = 0\n",
    "n = 11\n",
    "k = 1\n",
    "for i in range(1,22):\n",
    "    if i<=n:\n",
    "        m += 1\n",
    "    else:\n",
    "        m -= 1\n",
    "    k = m-1\n",
    "    for j in range(1,22):\n",
    "        if j>=n+1-m and j<=n-1+m:\n",
    "            print(k%10,end=\" \")\n",
    "            if j<n:\n",
    "                k += 1\n",
    "            else:\n",
    "                k -= 1\n",
    "        else:\n",
    "            print(\" \",end=\" \")\n",
    "    print()"
   ]
  },
  {
   "cell_type": "code",
   "execution_count": 121,
   "id": "0f3e5d21-2c89-49b6-82c2-cab888e8b3fa",
   "metadata": {},
   "outputs": [
    {
     "name": "stdout",
     "output_type": "stream",
     "text": [
      "A     \n",
      "B A    \n",
      "C B A   \n",
      "D C B A  \n",
      "E D C B A \n"
     ]
    }
   ],
   "source": [
    "for i in range(1,6):\n",
    "    c=64+i\n",
    "    for j in range(1,6):\n",
    "        if j <= i:\n",
    "            print(chr(c),end=\" \")\n",
    "            c-=1\n",
    "        else:\n",
    "            print(\" \",end=\"\")\n",
    "    print()"
   ]
  },
  {
   "cell_type": "code",
   "execution_count": null,
   "id": "000e9d66-648c-442e-b760-37ddcbae0893",
   "metadata": {},
   "outputs": [],
   "source": []
  },
  {
   "cell_type": "code",
   "execution_count": 76,
   "id": "1cabaf67-ea30-43e7-96dd-564646366dc9",
   "metadata": {},
   "outputs": [
    {
     "name": "stdout",
     "output_type": "stream",
     "text": [
      "      1         \n",
      "    2 1 2       \n",
      "  3 2 1 2 3     \n",
      "4 3 2 1 2 3 4   \n"
     ]
    }
   ],
   "source": [
    "for i in range(1,5):\n",
    "    k = i\n",
    "    for j in range(1,9):\n",
    "        if j>=5-i and j<=3+i:\n",
    "            print(k,end=\" \")\n",
    "            if j<4:\n",
    "                k -= 1\n",
    "            else:\n",
    "                k += 1\n",
    "        else:\n",
    "            print(\" \",end=\" \")\n",
    "    print()"
   ]
  },
  {
   "cell_type": "code",
   "execution_count": 116,
   "id": "77ed7a87-2cb1-42b6-afdb-49f7f9939c08",
   "metadata": {},
   "outputs": [
    {
     "name": "stdout",
     "output_type": "stream",
     "text": [
      "1         \n",
      "3 * 2       \n",
      "4 * 5 * 6     \n",
      "10 * 9 * 8 * 7   \n",
      "11 * 12 * 13 * 14 * 15 \n"
     ]
    }
   ],
   "source": [
    "k=0\n",
    "for i in range(1,6):\n",
    "    if i%2 == 1:\n",
    "        k += 1\n",
    "    else:\n",
    "        k -= 1\n",
    "        k += i\n",
    "    flag = 1\n",
    "    p=k\n",
    "    for j in range(1,10):\n",
    "        if j <= 2*i-1:\n",
    "            if flag:\n",
    "                print(p,end=\" \")\n",
    "                if i%2 == 0:\n",
    "                    p -= 1\n",
    "                else:\n",
    "                    p += 1\n",
    "                    k+=1\n",
    "            else:\n",
    "                print(\"*\", end=\" \")\n",
    "            flag = 1-flag\n",
    "        else:\n",
    "            print(\" \",end=\"\")\n",
    "    print()"
   ]
  },
  {
   "cell_type": "code",
   "execution_count": 147,
   "id": "5625e220-9083-4356-89c8-ab52052aabe6",
   "metadata": {},
   "outputs": [
    {
     "name": "stdout",
     "output_type": "stream",
     "text": [
      "        A \n",
      "      C B \n",
      "    F E D \n",
      "  J I H G \n",
      "O N M L K \n"
     ]
    }
   ],
   "source": [
    "k = 64\n",
    "for i in range(1,6):\n",
    "    k = k+2*(i-1)+1\n",
    "    for j in range(1,6):\n",
    "        if j >= 6-i:\n",
    "            print(chr(k),end=\" \")\n",
    "            k-=1\n",
    "        else:\n",
    "            print(\" \",end=\" \")\n",
    "    print()"
   ]
  },
  {
   "cell_type": "code",
   "execution_count": 179,
   "id": "abd3412e-2a9f-47c0-9aec-2d61e70ad7b7",
   "metadata": {},
   "outputs": [
    {
     "name": "stdin",
     "output_type": "stream",
     "text": [
      "Enter the value of n:  5\n"
     ]
    },
    {
     "name": "stdout",
     "output_type": "stream",
     "text": [
      "                * \n",
      "              * * \n",
      "            * * * \n",
      "          * * * * \n",
      "        * * * * * \n",
      "        | * * * * \n",
      "*       |   * * * \n",
      "* *     |     * * \n",
      "* * *   |       * \n",
      "* * * * |         \n",
      "* * * * *         \n",
      "* * * *           \n",
      "* * *             \n",
      "* *               \n",
      "*                 \n"
     ]
    }
   ],
   "source": [
    "n = int(input(\"Enter the value of n: \"))\n",
    "for i in range(1,3*n+1):\n",
    "    for j in range(1,2*n):\n",
    "        if i<=n:\n",
    "            if j>=(2*n)-i:\n",
    "                print(\"*\",end=\" \")\n",
    "            else:\n",
    "                print(\" \",end=\" \")\n",
    "        elif i<=2*n:\n",
    "            if j==n:\n",
    "                print(\"|\",end=\" \")\n",
    "            elif j<=(i-n-1) or j>=i:\n",
    "                print(\"*\",end=\" \")\n",
    "            else:\n",
    "                print(\" \",end=\" \")\n",
    "        elif i<=3*n:\n",
    "            if j<=(3*n+1)-i:\n",
    "                print(\"*\",end=\" \")\n",
    "            else:\n",
    "                print(\" \",end=\" \")\n",
    "    print()"
   ]
  },
  {
   "cell_type": "code",
   "execution_count": 196,
   "id": "9f9dad41-d665-4123-9cb2-deececafcb45",
   "metadata": {},
   "outputs": [
    {
     "name": "stdin",
     "output_type": "stream",
     "text": [
      "Enter the value of n:  10\n"
     ]
    },
    {
     "name": "stdout",
     "output_type": "stream",
     "text": [
      "                  1                   \n",
      "                A   B                 \n",
      "              1   2   3               \n",
      "            A   B   C   D             \n",
      "          1   2   3   4   5           \n",
      "        A   B   C   D   E   F         \n",
      "      1   2   3   4   5   6   7       \n",
      "    A   B   C   D   E   F   G   H     \n",
      "  1   2   3   4   5   6   7   8   9   \n",
      "A   B   C   D   E   F   G   H   I   J \n"
     ]
    }
   ],
   "source": [
    "n = int(input(\"Enter the value of n: \"))\n",
    "for i in range(1,n+1):\n",
    "    k=1\n",
    "    a = 1\n",
    "    for j in range(1,2*n):    \n",
    "        if j>=n+1-i and j<=n-1+i:\n",
    "            if k:\n",
    "                if i%2 == 1:\n",
    "                    print(a,end=\" \")\n",
    "                    a+=1\n",
    "                else:\n",
    "                    print(chr(64+a),end=\" \")\n",
    "                    a+=1\n",
    "            else:\n",
    "               print(\" \",end=\" \") \n",
    "            k=1-k\n",
    "        else:\n",
    "            print(\" \",end=\" \")\n",
    "    print()"
   ]
  },
  {
   "cell_type": "code",
   "execution_count": 202,
   "id": "2cbba9f0-67f9-4210-a939-e0e12642e990",
   "metadata": {},
   "outputs": [
    {
     "name": "stdin",
     "output_type": "stream",
     "text": [
      "Enter the value of n:  5\n"
     ]
    },
    {
     "name": "stdout",
     "output_type": "stream",
     "text": [
      "*       * \n",
      "  *   *   \n",
      "    *     \n",
      "  *   *   \n",
      "*       * \n"
     ]
    }
   ],
   "source": [
    "n = int(input(\"Enter the value of n: \"))\n",
    "for i in range(1,n+1):\n",
    "    for j in range(1,n+1):\n",
    "        if i==j or n+1-i == j:\n",
    "            print(\"*\",end=\" \")\n",
    "        else:\n",
    "            print(\" \",end=\" \")\n",
    "    print()"
   ]
  },
  {
   "cell_type": "code",
   "execution_count": 206,
   "id": "ffcc4087-1a8e-4b82-bf8c-0b77db8ddb84",
   "metadata": {},
   "outputs": [
    {
     "name": "stdout",
     "output_type": "stream",
     "text": [
      "ABCDEFG\n",
      "ABC EFG\n",
      "AB   FG\n",
      "A     G\n"
     ]
    }
   ],
   "source": [
    "for i in range(1,5):\n",
    "    c = 65\n",
    "    for j in range(1,8):\n",
    "        if j<=5-i or j>=3+i:\n",
    "            print(chr(c),end=\"\")   \n",
    "        else:\n",
    "            print(\" \",end=\"\")\n",
    "        c+=1 \n",
    "    print()"
   ]
  },
  {
   "cell_type": "code",
   "execution_count": 219,
   "id": "6c329b6e-1b22-4534-a381-dc231157cddf",
   "metadata": {},
   "outputs": [
    {
     "name": "stdin",
     "output_type": "stream",
     "text": [
      "Enter the value of n:  8\n"
     ]
    },
    {
     "name": "stdout",
     "output_type": "stream",
     "text": [
      "1 \n",
      "9 2 \n",
      "16 10 3 \n",
      "22 17 11 4 \n",
      "27 23 18 12 5 \n",
      "31 28 24 19 13 6 \n",
      "34 32 29 25 20 14 7 \n",
      "36 35 33 30 26 21 15 8 \n"
     ]
    }
   ],
   "source": [
    "k = 1\n",
    "n = int(input(\"Enter the value of n: \"))\n",
    "for i in range(1,n+1):\n",
    "    p=k\n",
    "    for j in range(1,i+1):\n",
    "        print(p,end=\" \")\n",
    "        p = p-(n+j-i)\n",
    "    k=k+1+n-i\n",
    "    print()"
   ]
  },
  {
   "cell_type": "code",
   "execution_count": 13,
   "id": "7f3d29d2-3954-43f2-95cd-3ca2c2627dc4",
   "metadata": {},
   "outputs": [
    {
     "name": "stdout",
     "output_type": "stream",
     "text": [
      "      * \n",
      "    *   * \n",
      "  *   *   * \n",
      "*   *   *   * \n"
     ]
    }
   ],
   "source": [
    "flag = 1\n",
    "k = 0\n",
    "i = 1\n",
    "\n",
    "while i <= 7:\n",
    "    if i < 4 - k:\n",
    "        print(\" \", end=\" \")\n",
    "    else:\n",
    "        if flag:\n",
    "            print(\"*\", end=\" \")\n",
    "        else:\n",
    "            print(\" \", end=\" \")\n",
    "        flag = 1 - flag\n",
    "\n",
    "    if i == 4 + k:\n",
    "        k += 1\n",
    "        print()\n",
    "        if k == 4:\n",
    "            break\n",
    "        i = 0 \n",
    "        flag = 1 \n",
    "    i += 1\n"
   ]
  },
  {
   "cell_type": "code",
   "execution_count": 225,
   "id": "6ceafe8b-264f-4175-8ff3-9f889fe9707c",
   "metadata": {},
   "outputs": [
    {
     "name": "stdout",
     "output_type": "stream",
     "text": [
      "      \n",
      "0      \n",
      "0 1     \n",
      "0 2 4    \n",
      "0 3 6 9   \n",
      "0 4 8 12 16  \n",
      "0 5 10 15 20 25 \n"
     ]
    }
   ],
   "source": [
    "for i in range(0,7):\n",
    "    k = 0\n",
    "    for j in range(1,7):\n",
    "        if j <= i:\n",
    "            print(k,end=\" \")\n",
    "            k+=i-1\n",
    "        else:\n",
    "            print(\" \",end=\"\")\n",
    "    print()"
   ]
  }
 ],
 "metadata": {
  "kernelspec": {
   "display_name": "Python 3 (ipykernel)",
   "language": "python",
   "name": "python3"
  },
  "language_info": {
   "codemirror_mode": {
    "name": "ipython",
    "version": 3
   },
   "file_extension": ".py",
   "mimetype": "text/x-python",
   "name": "python",
   "nbconvert_exporter": "python",
   "pygments_lexer": "ipython3",
   "version": "3.12.7"
  }
 },
 "nbformat": 4,
 "nbformat_minor": 5
}
